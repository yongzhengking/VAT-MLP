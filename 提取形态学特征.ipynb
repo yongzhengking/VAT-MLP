{
 "cells": [
  {
   "cell_type": "code",
   "execution_count": 1,
   "id": "initial_id",
   "metadata": {
    "collapsed": true,
    "ExecuteTime": {
     "end_time": "2024-04-25T03:01:22.658788Z",
     "start_time": "2024-04-25T03:01:21.667374Z"
    }
   },
   "outputs": [],
   "source": [
    "import cv2\n",
    "import numpy as np\n",
    "def preprocess_image(image_path):\n",
    "    # 读取图像\n",
    "    image = cv2.imread(image_path, cv2.IMREAD_GRAYSCALE)\n",
    "\n",
    "    # 高斯滤波去噪\n",
    "    denoised_image = cv2.GaussianBlur(image, (5, 5), 0)\n",
    "\n",
    "    # Otsu二值化\n",
    "    _, binary_image = cv2.threshold(denoised_image, 0, 255, cv2.THRESH_BINARY + cv2.THRESH_OTSU)\n",
    "\n",
    "    # 形态学开闭操作\n",
    "    kernel = cv2.getStructuringElement(cv2.MORPH_RECT, (5, 5))\n",
    "    opened_image = cv2.morphologyEx(binary_image, cv2.MORPH_OPEN, kernel)\n",
    "    closed_image = cv2.morphologyEx(opened_image, cv2.MORPH_CLOSE, kernel)\n",
    "\n",
    "    return closed_image\n",
    "\n",
    "# 步骤二：形态学特征提取\n",
    "def extract_shape_features(binary_image):\n",
    "    contours, _ = cv2.findContours(binary_image, cv2.RETR_EXTERNAL, cv2.CHAIN_APPROX_SIMPLE)\n",
    "\n",
    "    features = []\n",
    "    for contour in contours:\n",
    "        # 基本几何属性\n",
    "        area = cv2.contourArea(contour)\n",
    "        perimeter = cv2.arcLength(contour, True)\n",
    "        moments = cv2.moments(contour)\n",
    "        centroid = (moments['m10'] / moments['m00'], moments['m01'] / moments['m00'])\n",
    "        rect = cv2.minAreaRect(contour)\n",
    "        (x, y), (width, height), angle = rect\n",
    "\n",
    "        # 形状描述符\n",
    "        hu_moments = cv2.HuMoments(moments).flatten()\n",
    "        circularity = 4 * np.pi * area / (perimeter ** 2)\n",
    "\n",
    "        # 将特征添加到列表\n",
    "        features.append([area, perimeter, centroid[0], centroid[1], width, height, angle, *hu_moments, circularity])\n",
    "\n",
    "    return np.array(features)"
   ]
  },
  {
   "cell_type": "code",
   "outputs": [
    {
     "data": {
      "text/plain": "        Area    Perimeter  Centroid_X  Centroid_Y       Width      Height  \\\n0        8.0    12.000000  443.000000  458.000000    2.000000    4.000000   \n1       10.0    14.000000  161.500000  458.000000    2.000000    5.000000   \n2       14.5    15.414214  408.574713  457.540230    3.000000    5.000000   \n3       26.5    21.414214  668.327044  457.069182    4.000000    7.000000   \n4       86.0    50.828427  208.122093  457.031008    4.000000   22.000000   \n..       ...          ...         ...         ...         ...         ...   \n218      8.0    12.000000  212.000000    1.000000    2.000000    4.000000   \n219    182.5    84.727922  175.144292    2.750685    7.000000   36.000000   \n220     24.0    20.000000   75.000000    2.000000    4.000000    6.000000   \n221  18382.0  1987.661029   69.122955  115.211792  186.851059  468.152802   \n222     22.5    21.414214    1.429630    3.785185    8.000000    3.000000   \n\n         Angle  Hu_Moment_1  Hu_Moment_2   Hu_Moment_3   Hu_Moment_4  \\\n0    90.000000     0.208333     0.015625  5.014237e-19  7.395160e-18   \n1    90.000000     0.241667     0.030625  1.964138e-18  2.421999e-18   \n2    90.000000     0.186979     0.007707  7.008554e-05  3.112450e-06   \n3    90.000000     0.190870     0.008791  1.362671e-04  7.972787e-06   \n4    90.000000     0.464729     0.188455  7.609093e-05  8.652603e-06   \n..         ...          ...          ...           ...           ...   \n218  90.000000     0.208333     0.015625  2.710474e-20  2.710557e-20   \n219  90.000000     0.556088     0.274503  1.710464e-02  1.368583e-02   \n220  90.000000     0.180556     0.004823  0.000000e+00  0.000000e+00   \n221  27.864437     0.650964     0.266197  4.546549e-01  2.844319e-01   \n222  90.000000     0.251145     0.035628  3.263894e-04  5.715436e-05   \n\n      Hu_Moment_5   Hu_Moment_6   Hu_Moment_7  Circularity  \n0    1.422366e-35 -6.183175e-21 -6.914540e-37     0.698132  \n1    5.278163e-36 -4.188705e-19  2.162505e-37     0.641141  \n2   -4.473307e-11 -2.123621e-07  1.058900e-11     0.766894  \n3   -8.393403e-11 -2.278039e-07 -2.490267e-10     0.726192  \n4   -1.560422e-10 -3.111373e-06  1.579318e-10     0.418307  \n..            ...           ...           ...          ...  \n218  7.347008e-40  3.388171e-21 -8.758166e-47     0.698132  \n219  2.093929e-04  7.113109e-03 -5.997657e-07     0.319462  \n220  0.000000e+00  0.000000e+00  0.000000e+00     0.753982  \n221  1.016683e-01  1.405803e-01  1.120755e-02     0.058468  \n222  5.574678e-09  5.817757e-06 -5.464466e-09     0.616578  \n\n[223 rows x 15 columns]",
      "text/html": "<div>\n<style scoped>\n    .dataframe tbody tr th:only-of-type {\n        vertical-align: middle;\n    }\n\n    .dataframe tbody tr th {\n        vertical-align: top;\n    }\n\n    .dataframe thead th {\n        text-align: right;\n    }\n</style>\n<table border=\"1\" class=\"dataframe\">\n  <thead>\n    <tr style=\"text-align: right;\">\n      <th></th>\n      <th>Area</th>\n      <th>Perimeter</th>\n      <th>Centroid_X</th>\n      <th>Centroid_Y</th>\n      <th>Width</th>\n      <th>Height</th>\n      <th>Angle</th>\n      <th>Hu_Moment_1</th>\n      <th>Hu_Moment_2</th>\n      <th>Hu_Moment_3</th>\n      <th>Hu_Moment_4</th>\n      <th>Hu_Moment_5</th>\n      <th>Hu_Moment_6</th>\n      <th>Hu_Moment_7</th>\n      <th>Circularity</th>\n    </tr>\n  </thead>\n  <tbody>\n    <tr>\n      <th>0</th>\n      <td>8.0</td>\n      <td>12.000000</td>\n      <td>443.000000</td>\n      <td>458.000000</td>\n      <td>2.000000</td>\n      <td>4.000000</td>\n      <td>90.000000</td>\n      <td>0.208333</td>\n      <td>0.015625</td>\n      <td>5.014237e-19</td>\n      <td>7.395160e-18</td>\n      <td>1.422366e-35</td>\n      <td>-6.183175e-21</td>\n      <td>-6.914540e-37</td>\n      <td>0.698132</td>\n    </tr>\n    <tr>\n      <th>1</th>\n      <td>10.0</td>\n      <td>14.000000</td>\n      <td>161.500000</td>\n      <td>458.000000</td>\n      <td>2.000000</td>\n      <td>5.000000</td>\n      <td>90.000000</td>\n      <td>0.241667</td>\n      <td>0.030625</td>\n      <td>1.964138e-18</td>\n      <td>2.421999e-18</td>\n      <td>5.278163e-36</td>\n      <td>-4.188705e-19</td>\n      <td>2.162505e-37</td>\n      <td>0.641141</td>\n    </tr>\n    <tr>\n      <th>2</th>\n      <td>14.5</td>\n      <td>15.414214</td>\n      <td>408.574713</td>\n      <td>457.540230</td>\n      <td>3.000000</td>\n      <td>5.000000</td>\n      <td>90.000000</td>\n      <td>0.186979</td>\n      <td>0.007707</td>\n      <td>7.008554e-05</td>\n      <td>3.112450e-06</td>\n      <td>-4.473307e-11</td>\n      <td>-2.123621e-07</td>\n      <td>1.058900e-11</td>\n      <td>0.766894</td>\n    </tr>\n    <tr>\n      <th>3</th>\n      <td>26.5</td>\n      <td>21.414214</td>\n      <td>668.327044</td>\n      <td>457.069182</td>\n      <td>4.000000</td>\n      <td>7.000000</td>\n      <td>90.000000</td>\n      <td>0.190870</td>\n      <td>0.008791</td>\n      <td>1.362671e-04</td>\n      <td>7.972787e-06</td>\n      <td>-8.393403e-11</td>\n      <td>-2.278039e-07</td>\n      <td>-2.490267e-10</td>\n      <td>0.726192</td>\n    </tr>\n    <tr>\n      <th>4</th>\n      <td>86.0</td>\n      <td>50.828427</td>\n      <td>208.122093</td>\n      <td>457.031008</td>\n      <td>4.000000</td>\n      <td>22.000000</td>\n      <td>90.000000</td>\n      <td>0.464729</td>\n      <td>0.188455</td>\n      <td>7.609093e-05</td>\n      <td>8.652603e-06</td>\n      <td>-1.560422e-10</td>\n      <td>-3.111373e-06</td>\n      <td>1.579318e-10</td>\n      <td>0.418307</td>\n    </tr>\n    <tr>\n      <th>...</th>\n      <td>...</td>\n      <td>...</td>\n      <td>...</td>\n      <td>...</td>\n      <td>...</td>\n      <td>...</td>\n      <td>...</td>\n      <td>...</td>\n      <td>...</td>\n      <td>...</td>\n      <td>...</td>\n      <td>...</td>\n      <td>...</td>\n      <td>...</td>\n      <td>...</td>\n    </tr>\n    <tr>\n      <th>218</th>\n      <td>8.0</td>\n      <td>12.000000</td>\n      <td>212.000000</td>\n      <td>1.000000</td>\n      <td>2.000000</td>\n      <td>4.000000</td>\n      <td>90.000000</td>\n      <td>0.208333</td>\n      <td>0.015625</td>\n      <td>2.710474e-20</td>\n      <td>2.710557e-20</td>\n      <td>7.347008e-40</td>\n      <td>3.388171e-21</td>\n      <td>-8.758166e-47</td>\n      <td>0.698132</td>\n    </tr>\n    <tr>\n      <th>219</th>\n      <td>182.5</td>\n      <td>84.727922</td>\n      <td>175.144292</td>\n      <td>2.750685</td>\n      <td>7.000000</td>\n      <td>36.000000</td>\n      <td>90.000000</td>\n      <td>0.556088</td>\n      <td>0.274503</td>\n      <td>1.710464e-02</td>\n      <td>1.368583e-02</td>\n      <td>2.093929e-04</td>\n      <td>7.113109e-03</td>\n      <td>-5.997657e-07</td>\n      <td>0.319462</td>\n    </tr>\n    <tr>\n      <th>220</th>\n      <td>24.0</td>\n      <td>20.000000</td>\n      <td>75.000000</td>\n      <td>2.000000</td>\n      <td>4.000000</td>\n      <td>6.000000</td>\n      <td>90.000000</td>\n      <td>0.180556</td>\n      <td>0.004823</td>\n      <td>0.000000e+00</td>\n      <td>0.000000e+00</td>\n      <td>0.000000e+00</td>\n      <td>0.000000e+00</td>\n      <td>0.000000e+00</td>\n      <td>0.753982</td>\n    </tr>\n    <tr>\n      <th>221</th>\n      <td>18382.0</td>\n      <td>1987.661029</td>\n      <td>69.122955</td>\n      <td>115.211792</td>\n      <td>186.851059</td>\n      <td>468.152802</td>\n      <td>27.864437</td>\n      <td>0.650964</td>\n      <td>0.266197</td>\n      <td>4.546549e-01</td>\n      <td>2.844319e-01</td>\n      <td>1.016683e-01</td>\n      <td>1.405803e-01</td>\n      <td>1.120755e-02</td>\n      <td>0.058468</td>\n    </tr>\n    <tr>\n      <th>222</th>\n      <td>22.5</td>\n      <td>21.414214</td>\n      <td>1.429630</td>\n      <td>3.785185</td>\n      <td>8.000000</td>\n      <td>3.000000</td>\n      <td>90.000000</td>\n      <td>0.251145</td>\n      <td>0.035628</td>\n      <td>3.263894e-04</td>\n      <td>5.715436e-05</td>\n      <td>5.574678e-09</td>\n      <td>5.817757e-06</td>\n      <td>-5.464466e-09</td>\n      <td>0.616578</td>\n    </tr>\n  </tbody>\n</table>\n<p>223 rows × 15 columns</p>\n</div>"
     },
     "execution_count": 2,
     "metadata": {},
     "output_type": "execute_result"
    }
   ],
   "source": [
    "image_path = \"C:\\\\Users\\\\MYZ\\\\PycharmProjects\\\\VIT_Pytorch\\\\BreaKHis_Datasets\\\\Original\\\\Benign_Sample\\\\Benign_Sample (2).png\"\n",
    "processed_image = preprocess_image(image_path)\n",
    "shape_features = extract_shape_features(processed_image)\n",
    "# 打印部分形状特征\n",
    "'''\n",
    " print(\"Shape Features:\")\n",
    "print(\"Area: \", shape_features[:, 0])\n",
    "print(\"Perimeter: \", shape_features[:, 1])\n",
    "print(\"Centroid X: \", shape_features[:, 2])\n",
    "print(\"Centroid Y: \", shape_features[:, 3])\n",
    "print(\"Width: \", shape_features[:, 4])\n",
    "print(\"Height: \", shape_features[:, 5])\n",
    "print(\"Angle: \", shape_features[:, 6])\n",
    "print(\"Hu Moments: \", shape_features[:, 7:14])\n",
    "print(\"Circularity: \", shape_features[:, 14])\n",
    "'''\n",
    "# 定义列名\n",
    "import pandas as pd\n",
    "column_names = ['Area', 'Perimeter', 'Centroid_X', 'Centroid_Y', 'Width', 'Height', 'Angle']\n",
    "column_names.extend(['Hu_Moment_' + str(i+1) for i in range(7)])\n",
    "column_names.append('Circularity')\n",
    "# 创建DataFrame\n",
    "df_shape_features = pd.DataFrame(shape_features, columns=column_names)\n",
    "df_shape_features"
   ],
   "metadata": {
    "collapsed": false,
    "ExecuteTime": {
     "end_time": "2024-04-25T03:01:23.547788Z",
     "start_time": "2024-04-25T03:01:22.660492Z"
    }
   },
   "id": "728907baa7c9b1b5",
   "execution_count": 2
  },
  {
   "cell_type": "code",
   "outputs": [
    {
     "name": "stdout",
     "output_type": "stream",
     "text": [
      "(223, 15)\n"
     ]
    }
   ],
   "source": [
    "data = df_shape_features.to_numpy()  # 使用to_numpy()方法确保数据结构正确\n",
    "print(data.shape)  # 应输出：(223, 15)"
   ],
   "metadata": {
    "collapsed": false,
    "ExecuteTime": {
     "end_time": "2024-04-25T03:01:23.562524Z",
     "start_time": "2024-04-25T03:01:23.548811Z"
    }
   },
   "id": "f640eb6ac5983c30",
   "execution_count": 3
  },
  {
   "cell_type": "code",
   "outputs": [
    {
     "data": {
      "text/plain": "array([[-5.20382923e+02],\n       [-5.17376473e+02],\n       [-5.13358057e+02],\n       [-5.01278486e+02],\n       [-4.36834497e+02],\n       [-5.08194549e+02],\n       [-4.53205341e+02],\n       [-5.03763003e+02],\n       [-5.11058025e+02],\n       [-4.39847265e+02],\n       [-5.11348088e+02],\n       [-4.01130043e+02],\n       [-4.83586112e+02],\n       [-2.70899355e+02],\n       [-3.76497983e+02],\n       [-4.78863780e+02],\n       [-5.12524538e+02],\n       [-4.74499033e+02],\n       [-4.39035259e+02],\n       [-4.73034598e+02],\n       [-4.82841822e+02],\n       [-4.92421622e+02],\n       [-3.46853847e+02],\n       [-4.93183333e+02],\n       [-5.11967433e+02],\n       [ 1.41396155e+03],\n       [-4.84410965e+02],\n       [-4.12086584e+02],\n       [-5.07385933e+02],\n       [-3.25515178e+02],\n       [-1.82699810e+02],\n       [-4.76035684e+02],\n       [-4.37529785e+02],\n       [-2.00178248e+01],\n       [-3.25932784e+02],\n       [-1.41765176e+02],\n       [-3.90103579e+02],\n       [-4.73702359e+02],\n       [ 2.98507084e+02],\n       [-4.46815081e+02],\n       [-4.93012607e+02],\n       [ 1.70994922e+03],\n       [-4.57775834e+02],\n       [-1.44592367e+02],\n       [ 3.47617103e+02],\n       [-3.64408547e+02],\n       [-5.11117029e+02],\n       [-4.86728417e+02],\n       [-4.86527537e+02],\n       [-4.85869325e+02],\n       [-5.11548180e+02],\n       [-3.37576666e+02],\n       [ 3.02291768e+02],\n       [-4.38927470e+02],\n       [-4.71936640e+02],\n       [-4.28161900e+02],\n       [-5.02650044e+02],\n       [-5.08276925e+02],\n       [-4.72018050e+02],\n       [-5.11254801e+02],\n       [-4.56776688e+02],\n       [-4.72645287e+02],\n       [-4.71437312e+02],\n       [-5.11201345e+02],\n       [-4.57585015e+02],\n       [ 8.46396777e+03],\n       [-4.94149718e+02],\n       [-4.33480195e+02],\n       [-4.77527510e+02],\n       [-1.38529256e+01],\n       [-4.36724957e+02],\n       [-4.98816091e+02],\n       [-5.19544492e+02],\n       [-5.11425136e+02],\n       [-2.09614663e+02],\n       [-3.92309167e+02],\n       [ 3.17877828e+02],\n       [-5.11553057e+02],\n       [-4.87545505e+02],\n       [-4.84141845e+02],\n       [ 7.25996880e+02],\n       [-5.11325791e+02],\n       [-4.60596247e+02],\n       [-2.97560521e+02],\n       [-5.02569653e+02],\n       [-3.60980947e+02],\n       [-5.07225504e+02],\n       [-1.29644154e+02],\n       [ 5.42303296e+01],\n       [-5.07089855e+02],\n       [-4.99108593e+02],\n       [-4.18738461e+02],\n       [-4.91719100e+02],\n       [ 6.31703240e+03],\n       [-4.68762589e+02],\n       [-3.19206060e+02],\n       [-5.12809211e+02],\n       [-1.41072702e+01],\n       [-4.94478698e+02],\n       [ 1.04958627e+03],\n       [ 4.48868113e+03],\n       [-4.80226067e+02],\n       [-5.11772861e+02],\n       [-4.90911648e+02],\n       [-4.87778154e+02],\n       [ 4.80536180e+02],\n       [-4.36783706e+02],\n       [-4.67972817e+02],\n       [-4.77614400e+02],\n       [-5.12205705e+02],\n       [-4.91210325e+02],\n       [-3.71930873e+01],\n       [ 3.72152069e+03],\n       [-3.91178776e+02],\n       [-5.12207478e+02],\n       [-4.90428544e+02],\n       [-4.94464933e+02],\n       [ 2.55973100e+02],\n       [-4.78595552e+02],\n       [-1.77133926e+02],\n       [ 9.40568803e+02],\n       [-4.04948181e+02],\n       [-1.15858762e+02],\n       [-5.11918280e+02],\n       [-3.70857402e+02],\n       [-4.69785011e+02],\n       [ 4.62881697e+02],\n       [-4.97047180e+02],\n       [-4.64229818e+02],\n       [-4.85405652e+02],\n       [-4.76973837e+02],\n       [ 1.82806615e+04],\n       [-5.07714157e+02],\n       [-2.03634947e+02],\n       [-1.82507170e+02],\n       [-5.03946353e+02],\n       [-5.03448067e+02],\n       [-5.11670314e+02],\n       [-2.61201974e+02],\n       [-4.60124691e+02],\n       [ 2.42243158e+03],\n       [-5.13168640e+02],\n       [-5.11992621e+02],\n       [-4.82369123e+02],\n       [ 2.02352687e+03],\n       [-9.90824565e+01],\n       [-5.17470799e+02],\n       [-4.89182985e+02],\n       [-1.38504273e+00],\n       [-5.08946817e+02],\n       [-4.48729517e+02],\n       [-4.85253659e+02],\n       [-4.99674852e+02],\n       [-1.07044774e+02],\n       [-4.14308178e+02],\n       [-4.78658423e+02],\n       [-3.76276640e+02],\n       [-4.27102328e+02],\n       [ 2.20479278e+02],\n       [-4.53576386e+02],\n       [-3.29033059e+02],\n       [-3.67825793e+02],\n       [ 1.60598591e+03],\n       [-5.57744130e+01],\n       [-5.12071063e+02],\n       [-4.87294804e+02],\n       [ 5.22776950e+01],\n       [-4.67549217e+02],\n       [-4.99397689e+02],\n       [-5.12438271e+02],\n       [-1.98831198e+02],\n       [-4.24901455e+02],\n       [-4.22221790e+02],\n       [-5.02686448e+02],\n       [-5.21161005e+01],\n       [-4.30996702e+02],\n       [-4.92525742e+02],\n       [ 6.93342793e+03],\n       [-5.08486330e+02],\n       [-4.73472708e+02],\n       [-4.96430000e+02],\n       [ 1.93371046e+02],\n       [-3.69237775e+02],\n       [-4.65916582e+02],\n       [-3.80665065e+02],\n       [-5.04133789e+02],\n       [-5.08820544e+02],\n       [-4.94392632e+02],\n       [-5.00790809e+02],\n       [-4.25901712e+02],\n       [-4.21059179e+02],\n       [-4.61865000e+02],\n       [-4.31810706e+02],\n       [-5.08358561e+02],\n       [-3.53284157e+02],\n       [-4.79173579e+02],\n       [ 4.15445855e+01],\n       [-1.94627256e+02],\n       [-5.12065498e+02],\n       [-3.00538223e+02],\n       [-5.12518134e+02],\n       [-4.87972123e+02],\n       [-4.02892382e+02],\n       [-3.73091775e+02],\n       [-2.41175326e+02],\n       [-4.16505942e+02],\n       [-4.80338683e+02],\n       [-4.99246578e+02],\n       [-5.09041100e+02],\n       [-4.02622425e+02],\n       [ 9.51287216e+02],\n       [-4.24492019e+02],\n       [ 1.60398273e+01],\n       [-5.07101096e+02],\n       [-3.60377241e+02],\n       [-4.97160867e+02],\n       [-3.38987591e+02],\n       [-2.74988656e+02],\n       [-5.20664605e+02],\n       [-3.37107165e+02],\n       [-5.03303171e+02],\n       [ 1.79582751e+04],\n       [-5.04412437e+02]])"
     },
     "execution_count": 10,
     "metadata": {},
     "output_type": "execute_result"
    }
   ],
   "source": [
    "# 利用PCA进行降维\n",
    "from sklearn.decomposition import PCA\n",
    "#(223, M) 形状的二维数组，其中223为轮廓数，M为每个轮廓的特征数\n",
    "shape_features = data \n",
    "# 创建PCA实例，指定保留一个主成分（即输出一个单一特征向量）\n",
    "pca = PCA(n_components=1)\n",
    "# 训练PCA模型并转换数据\n",
    "pca.fit(shape_features)\n",
    "image_pca_representation = pca.transform(shape_features)\n",
    "# image_pca_representation 是一个形状为 (223, 1) 的数组，每行代表一个轮廓的PCA特征向量\n",
    "# 若要进一步将整张图像表示为一个单一特征向量，可以取所有轮廓特征向量的均值\n",
    "image_single_vector_representation = image_pca_representation.mean(axis=0)\n",
    "# 现在，image_single_vector_representation 是一个长度为 1 的一维数组，表示整张图像的PCA特征向量\n",
    "image_pca_representation"
   ],
   "metadata": {
    "collapsed": false,
    "ExecuteTime": {
     "end_time": "2024-04-25T03:02:40.773794Z",
     "start_time": "2024-04-25T03:02:40.762220Z"
    }
   },
   "id": "4a360be90fb96a4a",
   "execution_count": 10
  },
  {
   "cell_type": "code",
   "outputs": [
    {
     "data": {
      "text/plain": "array([[5.20609865e+02, 1.02483300e+02, 3.60057220e+02, 2.19888301e+02,\n        1.82355979e+01, 2.28163289e+01, 7.68661540e+01, 2.60395887e-01,\n        4.28374220e-02, 9.77653617e-03, 2.91520914e-03, 5.03056502e-04,\n        1.14920254e-03, 2.45146652e-05, 5.93050175e-01]])"
     },
     "execution_count": 12,
     "metadata": {},
     "output_type": "execute_result"
    }
   ],
   "source": [
    "# 利用平均特征向量作为所有轮廓整体特性的单一数据\n",
    "import numpy as np\n",
    "contour_features = df_shape_features  # 实际数据在此处填充\n",
    "# 计算所有轮廓在每个特征上的平均值\n",
    "mean_feature_vector = np.mean(contour_features, axis=0)\n",
    "mean_feature_vector_reshaped = mean_feature_vector.to_numpy().reshape(1, -1)\n",
    "# mean_feature_vector 现在是一个长度为 15 的一维数组，表示所有轮廓在各个特征上的平均值\n",
    "mean_feature_vector_reshaped"
   ],
   "metadata": {
    "collapsed": false,
    "ExecuteTime": {
     "end_time": "2024-04-25T03:07:14.856209Z",
     "start_time": "2024-04-25T03:07:14.840856Z"
    }
   },
   "id": "877dc569164ab3ca",
   "execution_count": 12
  },
  {
   "cell_type": "code",
   "outputs": [
    {
     "data": {
      "text/plain": "{'skeleton_length': 16199,\n 'num_endpoints': 6567,\n 'num_branches': 948,\n 'avg_curvature': nan}"
     },
     "execution_count": 6,
     "metadata": {},
     "output_type": "execute_result"
    }
   ],
   "source": [
    "import cv2\n",
    "import numpy as np\n",
    "from skimage import measure\n",
    "from skimage.measure import label \n",
    "from scipy.ndimage import gaussian_filter\n",
    "from scipy.spatial.distance import cdist\n",
    "from skimage import morphology\n",
    "from cv2 import ximgproc\n",
    "\n",
    "def compute_skeleton_features(skeleton):\n",
    "    # 计算骨架长度\n",
    "    skeleton_length = cv2.countNonZero(skeleton)  \n",
    "    # 计算骨架端点和分支数（基于连通分量分析）\n",
    "    labeled_skeleton = label(skeleton, connectivity=1)\n",
    "    num_endpoints = 0\n",
    "    num_branches = 0\n",
    "    for region in measure.regionprops(labeled_skeleton):\n",
    "        # 检查当前连通分量是否只有一个像素（端点）\n",
    "        if region.area == 1:\n",
    "            num_endpoints += 1\n",
    "        else:\n",
    "            num_branches += 1\n",
    "    # 计算骨架曲率\n",
    "    # 预处理：对骨架进行平滑处理，以减小噪声影响\n",
    "    skeleton_smooth = gaussian_filter(skeleton, sigma=1)\n",
    "    # 提取骨架轮廓\n",
    "    contours = measure.find_contours(skeleton_smooth, level=0, fully_connected='low', positive_orientation='low')\n",
    "    # 计算每个轮廓点的曲率\n",
    "    curvatures = []\n",
    "    for contour in contours:\n",
    "        # 计算轮廓点的坐标\n",
    "        x, y = contour.T\n",
    "        # 计算相邻点的距离矩阵\n",
    "        dist_matrix = cdist(contour, contour, metric='euclidean')\n",
    "        # 计算每个点的曲率\n",
    "        for i in range(len(x)):\n",
    "            # 选取当前点及其相邻点\n",
    "            neighbors = np.delete(dist_matrix[i], i, axis=0)\n",
    "            sorted_indices = np.argsort(neighbors)\n",
    "            indices = sorted_indices[:3]  # 取前三个最近邻点\n",
    "            # 计算曲率\n",
    "            p1 = contour[indices[0]]\n",
    "            p2 = contour[i]\n",
    "            p3 = contour[indices[1]]\n",
    "            print(f\"Point {i}: ({x[i]}, {y[i]})\") \n",
    "            v1 = p2 - p1\n",
    "            v2 = p2 - p3\n",
    "            print(f\"v1: {v1}, v2: {v2}\")\n",
    "            # 避免向量夹角余弦值计算问题\n",
    "            cos_theta = np.clip(np.dot(v1, v2) / (np.linalg.norm(v1) * np.linalg.norm(v2)), -1, 1)\n",
    "            print(f\"Cosine theta: {cos_theta}\")\n",
    "            # 避免向量长度为零\n",
    "            if np.isclose(np.linalg.norm(v1), 0) or np.isclose(np.linalg.norm(v2), 0):\n",
    "                curvature = np.nan  # 或者设置为一个合适的默认值，如 0 或者一个足够大的值表示无穷大曲率\n",
    "            else:\n",
    "                curvature_radius = np.linalg.norm(p2 - p1) / (2 * np.arccos(cos_theta))\n",
    "                curvature = 1 / curvature_radius if curvature_radius > 0 else np.nan  # 避免除以零\n",
    "            print(f\"Curvature radius: {curvature_radius},Curvature:{curvature}\")\n",
    "            curvatures.append(curvature)\n",
    "    # 计算平均曲率，过滤掉 NaN 值\n",
    "    valid_curvatures = [curvature for curvature in curvatures if not np.isnan(curvature)]\n",
    "    if valid_curvatures:\n",
    "        avg_curvature = np.mean(valid_curvatures)\n",
    "    else:\n",
    "        avg_curvature = np.nan  # 或者设置为一个合适的默认值，如 0 或者一个足够大的值表示平均曲率无法计算\n",
    "    return {\n",
    "        \"skeleton_length\": skeleton_length,\n",
    "        \"num_endpoints\": num_endpoints,\n",
    "        \"num_branches\": num_branches,\n",
    "        \"avg_curvature\": avg_curvature\n",
    "    }\n",
    "# 读取图像并转换为二值图像（假设已进行阈值处理）\n",
    "binary_img = cv2.imread('C:\\\\Users\\\\MYZ\\\\PycharmProjects\\\\VIT_Pytorch\\\\Benign_Sample (1).png', cv2.IMREAD_GRAYSCALE)\n",
    "_, binary_img = cv2.threshold(binary_img, 127, 255, cv2.THRESH_BINARY)\n",
    "# 使用 scikit-image 的 skeletonize 函数提取骨架\n",
    "skeleton = morphology.skeletonize(binary_img)\n",
    "# 转换为 uint8 类型以便与后续操作兼容\n",
    "skeleton = skeleton.astype(np.uint8)\n",
    "# 计算骨架特征\n",
    "features = compute_skeleton_features(skeleton)\n",
    "features"
   ],
   "metadata": {
    "collapsed": false,
    "ExecuteTime": {
     "end_time": "2024-04-25T03:01:27.086208Z",
     "start_time": "2024-04-25T03:01:26.462494Z"
    }
   },
   "id": "c3173e747cb9703e",
   "execution_count": 6
  },
  {
   "cell_type": "code",
   "outputs": [
    {
     "data": {
      "text/plain": "(4,)"
     },
     "execution_count": 14,
     "metadata": {},
     "output_type": "execute_result"
    }
   ],
   "source": [
    "values_list = list(features.values())\n",
    "# 处理缺失值（这里假设用0替换nan）\n",
    "values_list = [v if np.isfinite(v) else 0 for v in values_list]\n",
    "# 转换为一维NumPy数组\n",
    "one_dim_array = np.array(values_list)\n",
    "one_dim_array.shape"
   ],
   "metadata": {
    "collapsed": false,
    "ExecuteTime": {
     "end_time": "2024-04-25T03:16:16.896547Z",
     "start_time": "2024-04-25T03:16:16.891096Z"
    }
   },
   "id": "67d63193860f9cc",
   "execution_count": 14
  },
  {
   "cell_type": "code",
   "outputs": [
    {
     "data": {
      "text/plain": "array([[16199,  6567,   948,     0]])"
     },
     "execution_count": 18,
     "metadata": {},
     "output_type": "execute_result"
    }
   ],
   "source": [
    "arr_transposed = one_dim_array.reshape(1, -1)\n",
    "arr_transposed"
   ],
   "metadata": {
    "collapsed": false,
    "ExecuteTime": {
     "end_time": "2024-04-25T03:19:38.882826Z",
     "start_time": "2024-04-25T03:19:38.865332Z"
    }
   },
   "id": "ac63e867e73ddcaf",
   "execution_count": 18
  },
  {
   "cell_type": "code",
   "outputs": [],
   "source": [
    "high_dim_features  lbp_hist_array  GLCM_features  filter_features  mean_feature_vector_reshaped    skeleton_features"
   ],
   "metadata": {
    "collapsed": false
   },
   "id": "e1d2214d5b2082db"
  }
 ],
 "metadata": {
  "kernelspec": {
   "display_name": "Python 3",
   "language": "python",
   "name": "python3"
  },
  "language_info": {
   "codemirror_mode": {
    "name": "ipython",
    "version": 2
   },
   "file_extension": ".py",
   "mimetype": "text/x-python",
   "name": "python",
   "nbconvert_exporter": "python",
   "pygments_lexer": "ipython2",
   "version": "2.7.6"
  }
 },
 "nbformat": 4,
 "nbformat_minor": 5
}
