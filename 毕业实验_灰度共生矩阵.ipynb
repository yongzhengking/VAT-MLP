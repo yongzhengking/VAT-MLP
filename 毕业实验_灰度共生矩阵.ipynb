{
 "cells": [
  {
   "cell_type": "code",
   "execution_count": 4,
   "id": "initial_id",
   "metadata": {
    "collapsed": true,
    "ExecuteTime": {
     "end_time": "2024-05-15T11:34:36.321829Z",
     "start_time": "2024-05-15T11:34:26.184001Z"
    }
   },
   "outputs": [
    {
     "data": {
      "text/plain": "array([3.80310559e-02, 1.23377278e+01, 8.87438228e-02, 1.35599861e-06,\n       3.10006254e-07, 4.14627329e-02, 1.22087003e+01, 7.01770433e-02,\n       1.47605566e-06, 2.30321552e-07, 4.06956522e-02, 1.22787983e+01,\n       8.54088899e-02, 1.41911309e-06, 4.09384569e-07, 4.70683230e-02,\n       1.20662097e+01, 5.52403786e-02, 1.65654445e-06, 2.49087540e-07,\n       2.85465839e-02, 1.24476464e+01, 1.29044967e-01, 1.06973098e-06,\n       5.55985171e-07, 2.79596273e-02, 1.23722493e+01, 1.26753774e-01,\n       1.05488403e-06, 6.13070649e-07, 3.15683230e-02, 1.23393339e+01,\n       1.19132537e-01, 1.14223514e-06, 5.45898546e-07, 3.19254658e-02,\n       1.23213538e+01, 1.11976183e-01, 1.16583061e-06, 5.53702582e-07,\n       2.18913043e-02, 1.24072650e+01, 1.53276146e-01, 8.63500373e-07,\n       5.38804514e-07, 2.09037267e-02, 1.22205042e+01, 1.51099299e-01,\n       8.39020637e-07, 5.68262217e-07, 2.45403727e-02, 1.22340025e+01,\n       1.39632512e-01, 9.36935526e-07, 6.30305657e-07, 2.38881988e-02,\n       1.21991197e+01, 1.40226690e-01, 9.16457132e-07, 6.66683531e-07])"
     },
     "execution_count": 4,
     "metadata": {},
     "output_type": "execute_result"
    }
   ],
   "source": [
    "import cv2\n",
    "import numpy as np\n",
    "from math import radians\n",
    "\n",
    "def glcm_matrix(image, distance, angle, levels):\n",
    "    h, w = image.shape\n",
    "    x_step = int(distance * np.cos(angle))\n",
    "    y_step = int(distance * np.sin(angle))\n",
    "\n",
    "    # 修正x_step和y_step，确保不会越界\n",
    "    x_step = min(x_step, w - 1)\n",
    "    y_step = min(y_step, h - 1)\n",
    "    x_step = max(x_step, -w + 1)\n",
    "    y_step = max(y_step, -h + 1)\n",
    "\n",
    "    glcm = np.zeros((levels, levels), dtype=np.uint64)\n",
    "\n",
    "    for y in range(h):\n",
    "        for x in range(w):\n",
    "            if x + x_step < w and y + y_step < h and x >= 0 and y >= 0 and x + x_step >= 0 and y + y_step >= 0:\n",
    "                i, j = image[y, x], image[y + y_step, x + x_step]\n",
    "                glcm[i, j] += 1\n",
    "\n",
    "    return glcm / (h * w)\n",
    "\n",
    "def extract_texture_features(image, distances, angles, levels):\n",
    "    features_list = []\n",
    "\n",
    "    for distance in distances:\n",
    "        for angle in angles:\n",
    "            glcm = glcm_matrix(image, distance, angle, levels)\n",
    "\n",
    "            energy = np.trace(glcm)\n",
    "            entropy = -np.sum(glcm * np.log2(glcm + 1e-6))\n",
    "            contrast = np.mean(np.abs(np.subtract.outer(np.arange(levels), np.arange(levels))) ** 2 * glcm)\n",
    "            homogeneity = np.mean(np.divide(1, 1 + np.abs(np.subtract.outer(np.arange(levels), np.arange(levels)))) * glcm)\n",
    "            correlation = np.mean(np.multiply(glcm, np.subtract.outer(np.arange(levels), np.arange(levels))) *\n",
    "                                 np.divide(np.sum(glcm, axis=1).reshape(-1, 1), np.sum(glcm)))\n",
    "\n",
    "            features_list.extend([\n",
    "                energy,\n",
    "                entropy,\n",
    "                contrast,\n",
    "                homogeneity,\n",
    "                correlation\n",
    "            ])\n",
    "\n",
    "    return np.array(features_list)\n",
    "\n",
    "def radians_to_degrees(radians):\n",
    "    return np.rad2deg(radians)\n",
    "\n",
    "# 示例使用\n",
    "image_path = \"C:\\\\Users\\\\MYZ\\\\PycharmProjects\\\\VIT_Pytorch\\\\BreaKHis_Datasets\\\\Original\\\\Benign_Sample\\\\Benign_Sample (2).png\"\n",
    "biopsy_image = cv2.imread(image_path, cv2.IMREAD_GRAYSCALE)\n",
    "biopsy_image = cv2.equalizeHist(biopsy_image)\n",
    "\n",
    "levels = np.max(biopsy_image) + 1\n",
    "distances = [4, 8, 16]\n",
    "angles = [0, np.pi/4, np.pi/2, 3*np.pi/4]\n",
    "\n",
    "texture_features = extract_texture_features(biopsy_image, distances, angles, levels)\n",
    "texture_features"
   ]
  },
  {
   "cell_type": "code",
   "outputs": [
    {
     "name": "stdout",
     "output_type": "stream",
     "text": [
      "{'distance_1_angle_0': {'energy': 0.03803105590062112, 'entropy': 12.337727773567092, 'contrast': 0.08874382284413213, 'homogeneity': 1.3559986095232238e-06, 'correlation': 3.100062542553777e-07}, 'distance_2_angle_0': {'energy': 0.04146273291925466, 'entropy': 12.208700326547028, 'contrast': 0.07017704332245063, 'homogeneity': 1.4760556613778495e-06, 'correlation': 2.3032155164690455e-07}, 'distance_3_angle_0': {'energy': 0.04069565217391305, 'entropy': 12.278798281838972, 'contrast': 0.0854088898652829, 'homogeneity': 1.4191130902432492e-06, 'correlation': 4.0938456923747943e-07}, 'distance_4_angle_0': {'energy': 0.047068322981366456, 'entropy': 12.066209669666984, 'contrast': 0.05524037862268293, 'homogeneity': 1.6565444547527307e-06, 'correlation': 2.4908754027469764e-07}, 'distance_5_angle_0': {'energy': 0.028546583850931673, 'entropy': 12.447646437073816, 'contrast': 0.12904496679839142, 'homogeneity': 1.0697309829138012e-06, 'correlation': 5.559851710714804e-07}, 'distance_6_angle_0': {'energy': 0.027959627329192546, 'entropy': 12.372249261718418, 'contrast': 0.12675377413352826, 'homogeneity': 1.0548840324276796e-06, 'correlation': 6.13070648591806e-07}, 'distance_7_angle_0': {'energy': 0.03156832298136646, 'entropy': 12.339333889224566, 'contrast': 0.11913253722575881, 'homogeneity': 1.142235141135398e-06, 'correlation': 5.458985462636985e-07}, 'distance_8_angle_0': {'energy': 0.03192546583850932, 'entropy': 12.321353760510345, 'contrast': 0.11197618311532537, 'homogeneity': 1.1658306123357581e-06, 'correlation': 5.537025823069257e-07}, 'distance_9_angle_0': {'energy': 0.021891304347826088, 'entropy': 12.407265001895887, 'contrast': 0.15327614550857072, 'homogeneity': 8.63500372612283e-07, 'correlation': 5.388045137661076e-07}, 'distance_10_angle_0': {'energy': 0.020903726708074534, 'entropy': 12.220504158826762, 'contrast': 0.15109929898658897, 'homogeneity': 8.390206369738144e-07, 'correlation': 5.682622170609459e-07}, 'distance_11_angle_0': {'energy': 0.024540372670807456, 'entropy': 12.234002510457291, 'contrast': 0.139632512489461, 'homogeneity': 9.369355261368089e-07, 'correlation': 6.303056574375148e-07}, 'distance_12_angle_0': {'energy': 0.023888198757763976, 'entropy': 12.199119749085199, 'contrast': 0.14022669001988006, 'homogeneity': 9.164571320153805e-07, 'correlation': 6.666835305064917e-07}}\n"
     ]
    },
    {
     "ename": "KeyError",
     "evalue": "'distance_4_angle_0.0'",
     "output_type": "error",
     "traceback": [
      "\u001B[1;31m---------------------------------------------------------------------------\u001B[0m",
      "\u001B[1;31mKeyError\u001B[0m                                  Traceback (most recent call last)",
      "Cell \u001B[1;32mIn[10], line 38\u001B[0m\n\u001B[0;32m     35\u001B[0m     \u001B[38;5;28;01mreturn\u001B[39;00m df\n\u001B[0;32m     37\u001B[0m \u001B[38;5;66;03m# 创建 DataFrame\u001B[39;00m\n\u001B[1;32m---> 38\u001B[0m df \u001B[38;5;241m=\u001B[39m \u001B[43mchange\u001B[49m\u001B[43m(\u001B[49m\u001B[43mdata\u001B[49m\u001B[43m)\u001B[49m\n",
      "Cell \u001B[1;32mIn[10], line 26\u001B[0m, in \u001B[0;36mchange\u001B[1;34m(data)\u001B[0m\n\u001B[0;32m     21\u001B[0m     \u001B[38;5;28;01mfor\u001B[39;00m angle \u001B[38;5;129;01min\u001B[39;00m [\u001B[38;5;241m0.0\u001B[39m, \u001B[38;5;241m45.0\u001B[39m, \u001B[38;5;241m90.0\u001B[39m, \u001B[38;5;241m135.0\u001B[39m]:\n\u001B[0;32m     22\u001B[0m         key \u001B[38;5;241m=\u001B[39m \u001B[38;5;124mf\u001B[39m\u001B[38;5;124m\"\u001B[39m\u001B[38;5;124mdistance_\u001B[39m\u001B[38;5;132;01m{\u001B[39;00mdistance\u001B[38;5;132;01m}\u001B[39;00m\u001B[38;5;124m_angle_\u001B[39m\u001B[38;5;132;01m{\u001B[39;00mangle\u001B[38;5;132;01m}\u001B[39;00m\u001B[38;5;124m\"\u001B[39m\n\u001B[0;32m     23\u001B[0m         rows\u001B[38;5;241m.\u001B[39mappend({\n\u001B[0;32m     24\u001B[0m             \u001B[38;5;124m\"\u001B[39m\u001B[38;5;124mdistance\u001B[39m\u001B[38;5;124m\"\u001B[39m: distance,\n\u001B[0;32m     25\u001B[0m             \u001B[38;5;124m\"\u001B[39m\u001B[38;5;124mangle\u001B[39m\u001B[38;5;124m\"\u001B[39m: angle,\n\u001B[1;32m---> 26\u001B[0m             \u001B[38;5;124m\"\u001B[39m\u001B[38;5;124menergy\u001B[39m\u001B[38;5;124m\"\u001B[39m: \u001B[43mdata\u001B[49m\u001B[43m[\u001B[49m\u001B[43mkey\u001B[49m\u001B[43m]\u001B[49m[\u001B[38;5;124m\"\u001B[39m\u001B[38;5;124menergy\u001B[39m\u001B[38;5;124m\"\u001B[39m],\n\u001B[0;32m     27\u001B[0m             \u001B[38;5;124m\"\u001B[39m\u001B[38;5;124mentropy\u001B[39m\u001B[38;5;124m\"\u001B[39m: data[key][\u001B[38;5;124m\"\u001B[39m\u001B[38;5;124mentropy\u001B[39m\u001B[38;5;124m\"\u001B[39m],\n\u001B[0;32m     28\u001B[0m             \u001B[38;5;124m\"\u001B[39m\u001B[38;5;124mcontrast\u001B[39m\u001B[38;5;124m\"\u001B[39m: data[key][\u001B[38;5;124m\"\u001B[39m\u001B[38;5;124mcontrast\u001B[39m\u001B[38;5;124m\"\u001B[39m],\n\u001B[0;32m     29\u001B[0m             \u001B[38;5;124m\"\u001B[39m\u001B[38;5;124mhomogeneity\u001B[39m\u001B[38;5;124m\"\u001B[39m: data[key][\u001B[38;5;124m\"\u001B[39m\u001B[38;5;124mhomogeneity\u001B[39m\u001B[38;5;124m\"\u001B[39m],\n\u001B[0;32m     30\u001B[0m             \u001B[38;5;124m\"\u001B[39m\u001B[38;5;124mcorrelation\u001B[39m\u001B[38;5;124m\"\u001B[39m: data[key][\u001B[38;5;124m\"\u001B[39m\u001B[38;5;124mcorrelation\u001B[39m\u001B[38;5;124m\"\u001B[39m],\n\u001B[0;32m     31\u001B[0m          })\n\u001B[0;32m     33\u001B[0m column_names \u001B[38;5;241m=\u001B[39m [\u001B[38;5;124m\"\u001B[39m\u001B[38;5;124mdistance\u001B[39m\u001B[38;5;124m\"\u001B[39m, \u001B[38;5;124m\"\u001B[39m\u001B[38;5;124mangle\u001B[39m\u001B[38;5;124m\"\u001B[39m, \u001B[38;5;124m\"\u001B[39m\u001B[38;5;124menergy\u001B[39m\u001B[38;5;124m\"\u001B[39m, \u001B[38;5;124m\"\u001B[39m\u001B[38;5;124mentropy\u001B[39m\u001B[38;5;124m\"\u001B[39m, \u001B[38;5;124m\"\u001B[39m\u001B[38;5;124mcontrast\u001B[39m\u001B[38;5;124m\"\u001B[39m, \u001B[38;5;124m\"\u001B[39m\u001B[38;5;124mhomogeneity\u001B[39m\u001B[38;5;124m\"\u001B[39m, \u001B[38;5;124m\"\u001B[39m\u001B[38;5;124mcorrelation\u001B[39m\u001B[38;5;124m\"\u001B[39m]\n\u001B[0;32m     34\u001B[0m df \u001B[38;5;241m=\u001B[39m pd\u001B[38;5;241m.\u001B[39mDataFrame(rows, columns\u001B[38;5;241m=\u001B[39mcolumn_names)\n",
      "\u001B[1;31mKeyError\u001B[0m: 'distance_4_angle_0.0'"
     ]
    }
   ],
   "source": [
    "def convert_features_to_dict(texture_features):\n",
    "    feature_dict = {}\n",
    "    for i in range(0, len(texture_features), 5):\n",
    "        key = f\"distance_{i//5+1}_angle_{(i % 5) // 2*45}\"\n",
    "        feature_dict[key] = {\n",
    "            \"energy\": texture_features[i],\n",
    "            \"entropy\": texture_features[i+1],\n",
    "            \"contrast\": texture_features[i+2],\n",
    "            \"homogeneity\": texture_features[i+3],\n",
    "            \"correlation\": texture_features[i+4],\n",
    "        }\n",
    "    return feature_dict\n",
    "\n",
    "\n",
    "# 转换特征列表为字典\n",
    "data = convert_features_to_dict(texture_features)\n",
    "print(data)\n",
    "def change(data):\n",
    "    rows = []\n",
    "    for distance in [4, 8, 16]:\n",
    "        for angle in [0.0, 45.0, 90.0, 135.0]:\n",
    "            key = f\"distance_{distance}_angle_{angle}\"\n",
    "            rows.append({\n",
    "                \"distance\": distance,\n",
    "                \"angle\": angle,\n",
    "                \"energy\": data[key][\"energy\"],\n",
    "                \"entropy\": data[key][\"entropy\"],\n",
    "                \"contrast\": data[key][\"contrast\"],\n",
    "                \"homogeneity\": data[key][\"homogeneity\"],\n",
    "                \"correlation\": data[key][\"correlation\"],\n",
    "             })\n",
    "\n",
    "    column_names = [\"distance\", \"angle\", \"energy\", \"entropy\", \"contrast\", \"homogeneity\", \"correlation\"]\n",
    "    df = pd.DataFrame(rows, columns=column_names)\n",
    "    return df\n",
    "\n",
    "# 创建 DataFrame\n",
    "df = change(data)\n"
   ],
   "metadata": {
    "collapsed": false,
    "ExecuteTime": {
     "end_time": "2024-05-15T11:38:56.896101Z",
     "start_time": "2024-05-15T11:38:56.846121Z"
    }
   },
   "id": "28319b279d933454",
   "execution_count": 10
  },
  {
   "cell_type": "code",
   "outputs": [],
   "source": [
    "from matplotlib import pyplot as plt\n",
    "\n",
    "tidy_df = df.melt(id_vars=['angle', 'distance'],\n",
    "                  value_vars=['energy', 'entropy', 'contrast', 'homogeneity', 'correlation'],\n",
    "                  var_name='feature', value_name='value')\n",
    "import seaborn as sns\n",
    "\n",
    "# 创建一个颜色映射\n",
    "cmap = sns.diverging_palette(230, 20, as_cmap=True)\n",
    "\n",
    "# 绘制热力图\n",
    "sns.heatmap(tidy_df.pivot_table(index='distance', columns='angle', values='value'),\n",
    "            cmap=cmap, annot=True, fmt=\".4f\", linewidths=.5)\n",
    "\n",
    "# 添加图例和标题\n",
    "plt.title('')\n",
    "plt.xlabel('Angle')\n",
    "plt.ylabel('Distance')\n",
    "\n",
    "# 显示图形\n",
    "plt.show()\n"
   ],
   "metadata": {
    "collapsed": false,
    "ExecuteTime": {
     "start_time": "2024-05-15T11:34:36.369980Z"
    }
   },
   "id": "8407f9c2afe911ba",
   "execution_count": null
  },
  {
   "cell_type": "code",
   "outputs": [],
   "source": [
    "def round_to_four_places(x):\n",
    "    if isinstance(x, (int, float)):\n",
    "        return round(x, 6)\n",
    "    else:\n",
    "        return x\n",
    "\n",
    "# 应用到整个DataFrame\n",
    "df = df.applymap(round_to_four_places)"
   ],
   "metadata": {
    "collapsed": false
   },
   "id": "c4f358283dbb8fec",
   "execution_count": null
  },
  {
   "cell_type": "markdown",
   "source": [
    "XXXXXXXXXXXXXXXXX"
   ],
   "metadata": {
    "collapsed": false
   },
   "id": "49618a71e0039f11"
  },
  {
   "cell_type": "code",
   "outputs": [],
   "source": [
    "import cv2\n",
    "import numpy as np\n",
    "from math import radians\n",
    "\n",
    "def glcm_matrix(image, distance, angle, levels):\n",
    "    h, w = image.shape\n",
    "    x_step = int(distance * np.cos(angle))\n",
    "    y_step = int(distance * np.sin(angle))\n",
    "\n",
    "    # 修正x_step和y_step，确保不会越界\n",
    "    x_step = min(x_step, w - 1)\n",
    "    y_step = min(y_step, h - 1)\n",
    "    x_step = max(x_step, -w + 1)\n",
    "    y_step = max(y_step, -h + 1)\n",
    "\n",
    "    glcm = np.zeros((levels, levels), dtype=np.uint64)\n",
    "\n",
    "    for y in range(h):\n",
    "        for x in range(w):\n",
    "            if x + x_step < w and y + y_step < h and x >= 0 and y >= 0 and x + x_step >= 0 and y + y_step >= 0:\n",
    "                i, j = image[y, x], image[y + y_step, x + x_step]\n",
    "                glcm[i, j] += 1\n",
    "\n",
    "    return glcm / (h * w)\n",
    "\n",
    "def extract_texture_features(image, distances, angles, levels):\n",
    "    features = {}\n",
    "\n",
    "    for distance in distances:\n",
    "        for angle in angles:\n",
    "            glcm = glcm_matrix(image, distance, angle, levels)\n",
    "\n",
    "            energy = np.trace(glcm)\n",
    "            entropy = -np.sum(glcm * np.log2(glcm + 1e-6))  # 避免对零值取对数\n",
    "            contrast = np.mean(np.abs(np.subtract.outer(np.arange(levels), np.arange(levels))) ** 2 * glcm)\n",
    "            homogeneity = np.mean(np.divide(1, 1 + np.abs(np.subtract.outer(np.arange(levels), np.arange(levels)))) * glcm)\n",
    "            correlation = np.mean(np.multiply(glcm, np.subtract.outer(np.arange(levels), np.arange(levels))) *\n",
    "                             np.divide(np.sum(glcm, axis=1).reshape(-1, 1), np.sum(glcm)))\n",
    "\n",
    "            features[f'distance_{distance}_angle_{radians_to_degrees(angle)}_energy'] = energy\n",
    "            features[f'distance_{distance}_angle_{radians_to_degrees(angle)}_entropy'] = entropy\n",
    "            features[f'distance_{distance}_angle_{radians_to_degrees(angle)}_contrast'] = contrast\n",
    "            features[f'distance_{distance}_angle_{radians_to_degrees(angle)}_homogeneity'] = homogeneity\n",
    "            features[f'distance_{distance}_angle_{radians_to_degrees(angle)}_correlation'] = correlation\n",
    "\n",
    "    return features\n",
    "\n",
    "def radians_to_degrees(radians):\n",
    "    return np.rad2deg(radians)"
   ],
   "metadata": {
    "collapsed": false,
    "ExecuteTime": {
     "end_time": "2024-05-15T11:41:41.571174Z",
     "start_time": "2024-05-15T11:41:41.549179Z"
    }
   },
   "id": "e6c3c971211f5a88",
   "execution_count": 11
  },
  {
   "cell_type": "code",
   "outputs": [],
   "source": [
    "import pandas as pd\n",
    "def change(texture_features):\n",
    "    data = texture_features\n",
    "    rows = []\n",
    "    for distance in [4, 8, 16]:\n",
    "        for angle in [0.0, 45.0, 90.0, 135.0]:\n",
    "            key = f\"distance_{distance}_angle_{angle}\"\n",
    "            rows.append({\n",
    "                \"distance\": distance,\n",
    "                \"angle\": angle,\n",
    "                \"energy\": data[f\"{key}_energy\"],\n",
    "                \"entropy\": data[f\"{key}_entropy\"],\n",
    "                \"contrast\": data[f\"{key}_contrast\"],\n",
    "                \"homogeneity\": data[f\"{key}_homogeneity\"],\n",
    "                \"correlation\": data[f\"{key}_correlation\"],\n",
    "             })\n",
    "\n",
    "    column_names = [\"distance\", \"angle\", \"energy\", \"entropy\", \"contrast\", \"homogeneity\", \"correlation\"]\n",
    "    df = pd.DataFrame(rows, columns=column_names)\n",
    "    return df"
   ],
   "metadata": {
    "collapsed": false,
    "ExecuteTime": {
     "end_time": "2024-05-15T11:42:27.230747Z",
     "start_time": "2024-05-15T11:42:27.223494Z"
    }
   },
   "id": "73eff11c08cd3742",
   "execution_count": 12
  },
  {
   "cell_type": "code",
   "outputs": [],
   "source": [
    "# 示例使用\n",
    "image_path = \"C:\\\\Users\\\\MYZ\\\\PycharmProjects\\\\VIT_Pytorch\\\\BreaKHis_Datasets\\\\Original\\\\Benign_Sample\\\\Benign_Sample (2).png\"\n",
    "biopsy_image = cv2.imread(image_path, cv2.IMREAD_GRAYSCALE)\n",
    "biopsy_image = cv2.equalizeHist(biopsy_image)\n",
    "\n",
    "levels = np.max(biopsy_image) + 1\n",
    "distances = [4, 8, 16]\n",
    "angles = [0, np.pi/4, np.pi/2, 3*np.pi/4]\n",
    "\n",
    "texture_features = extract_texture_features(biopsy_image, distances, angles, levels)\n"
   ],
   "metadata": {
    "collapsed": false,
    "ExecuteTime": {
     "end_time": "2024-05-15T11:42:56.021318Z",
     "start_time": "2024-05-15T11:42:45.701436Z"
    }
   },
   "id": "155270b6d3cc82aa",
   "execution_count": 13
  },
  {
   "cell_type": "code",
   "outputs": [
    {
     "data": {
      "text/plain": "    distance  angle    energy    entropy  contrast   homogeneity   correlation\n0          4    0.0  0.038031  12.337728  0.088744  1.355999e-06  3.100063e-07\n1          4   45.0  0.041463  12.208700  0.070177  1.476056e-06  2.303216e-07\n2          4   90.0  0.040696  12.278798  0.085409  1.419113e-06  4.093846e-07\n3          4  135.0  0.047068  12.066210  0.055240  1.656544e-06  2.490875e-07\n4          8    0.0  0.028547  12.447646  0.129045  1.069731e-06  5.559852e-07\n5          8   45.0  0.027960  12.372249  0.126754  1.054884e-06  6.130706e-07\n6          8   90.0  0.031568  12.339334  0.119133  1.142235e-06  5.458985e-07\n7          8  135.0  0.031925  12.321354  0.111976  1.165831e-06  5.537026e-07\n8         16    0.0  0.021891  12.407265  0.153276  8.635004e-07  5.388045e-07\n9         16   45.0  0.020904  12.220504  0.151099  8.390206e-07  5.682622e-07\n10        16   90.0  0.024540  12.234003  0.139633  9.369355e-07  6.303057e-07\n11        16  135.0  0.023888  12.199120  0.140227  9.164571e-07  6.666835e-07",
      "text/html": "<div>\n<style scoped>\n    .dataframe tbody tr th:only-of-type {\n        vertical-align: middle;\n    }\n\n    .dataframe tbody tr th {\n        vertical-align: top;\n    }\n\n    .dataframe thead th {\n        text-align: right;\n    }\n</style>\n<table border=\"1\" class=\"dataframe\">\n  <thead>\n    <tr style=\"text-align: right;\">\n      <th></th>\n      <th>distance</th>\n      <th>angle</th>\n      <th>energy</th>\n      <th>entropy</th>\n      <th>contrast</th>\n      <th>homogeneity</th>\n      <th>correlation</th>\n    </tr>\n  </thead>\n  <tbody>\n    <tr>\n      <th>0</th>\n      <td>4</td>\n      <td>0.0</td>\n      <td>0.038031</td>\n      <td>12.337728</td>\n      <td>0.088744</td>\n      <td>1.355999e-06</td>\n      <td>3.100063e-07</td>\n    </tr>\n    <tr>\n      <th>1</th>\n      <td>4</td>\n      <td>45.0</td>\n      <td>0.041463</td>\n      <td>12.208700</td>\n      <td>0.070177</td>\n      <td>1.476056e-06</td>\n      <td>2.303216e-07</td>\n    </tr>\n    <tr>\n      <th>2</th>\n      <td>4</td>\n      <td>90.0</td>\n      <td>0.040696</td>\n      <td>12.278798</td>\n      <td>0.085409</td>\n      <td>1.419113e-06</td>\n      <td>4.093846e-07</td>\n    </tr>\n    <tr>\n      <th>3</th>\n      <td>4</td>\n      <td>135.0</td>\n      <td>0.047068</td>\n      <td>12.066210</td>\n      <td>0.055240</td>\n      <td>1.656544e-06</td>\n      <td>2.490875e-07</td>\n    </tr>\n    <tr>\n      <th>4</th>\n      <td>8</td>\n      <td>0.0</td>\n      <td>0.028547</td>\n      <td>12.447646</td>\n      <td>0.129045</td>\n      <td>1.069731e-06</td>\n      <td>5.559852e-07</td>\n    </tr>\n    <tr>\n      <th>5</th>\n      <td>8</td>\n      <td>45.0</td>\n      <td>0.027960</td>\n      <td>12.372249</td>\n      <td>0.126754</td>\n      <td>1.054884e-06</td>\n      <td>6.130706e-07</td>\n    </tr>\n    <tr>\n      <th>6</th>\n      <td>8</td>\n      <td>90.0</td>\n      <td>0.031568</td>\n      <td>12.339334</td>\n      <td>0.119133</td>\n      <td>1.142235e-06</td>\n      <td>5.458985e-07</td>\n    </tr>\n    <tr>\n      <th>7</th>\n      <td>8</td>\n      <td>135.0</td>\n      <td>0.031925</td>\n      <td>12.321354</td>\n      <td>0.111976</td>\n      <td>1.165831e-06</td>\n      <td>5.537026e-07</td>\n    </tr>\n    <tr>\n      <th>8</th>\n      <td>16</td>\n      <td>0.0</td>\n      <td>0.021891</td>\n      <td>12.407265</td>\n      <td>0.153276</td>\n      <td>8.635004e-07</td>\n      <td>5.388045e-07</td>\n    </tr>\n    <tr>\n      <th>9</th>\n      <td>16</td>\n      <td>45.0</td>\n      <td>0.020904</td>\n      <td>12.220504</td>\n      <td>0.151099</td>\n      <td>8.390206e-07</td>\n      <td>5.682622e-07</td>\n    </tr>\n    <tr>\n      <th>10</th>\n      <td>16</td>\n      <td>90.0</td>\n      <td>0.024540</td>\n      <td>12.234003</td>\n      <td>0.139633</td>\n      <td>9.369355e-07</td>\n      <td>6.303057e-07</td>\n    </tr>\n    <tr>\n      <th>11</th>\n      <td>16</td>\n      <td>135.0</td>\n      <td>0.023888</td>\n      <td>12.199120</td>\n      <td>0.140227</td>\n      <td>9.164571e-07</td>\n      <td>6.666835e-07</td>\n    </tr>\n  </tbody>\n</table>\n</div>"
     },
     "execution_count": 14,
     "metadata": {},
     "output_type": "execute_result"
    }
   ],
   "source": [
    "df = change(texture_features)\n",
    "df"
   ],
   "metadata": {
    "collapsed": false,
    "ExecuteTime": {
     "end_time": "2024-05-15T11:43:14.512552Z",
     "start_time": "2024-05-15T11:43:14.477360Z"
    }
   },
   "id": "476e3446042305a4",
   "execution_count": 14
  },
  {
   "cell_type": "code",
   "outputs": [
    {
     "data": {
      "text/plain": "<Figure size 640x480 with 2 Axes>",
      "image/png": "[encoded data removed]"
     },
     "metadata": {},
     "output_type": "display_data"
    }
   ],
   "source": [
    "from matplotlib import pyplot as plt\n",
    "\n",
    "tidy_df = df.melt(id_vars=['angle', 'distance'],\n",
    "                  value_vars=['energy', 'entropy', 'contrast', 'homogeneity', 'correlation'],\n",
    "                  var_name='feature', value_name='value')\n",
    "import seaborn as sns\n",
    "\n",
    "# 创建一个颜色映射\n",
    "cmap = sns.diverging_palette(230, 20, as_cmap=True)\n",
    "\n",
    "# 绘制热力图\n",
    "sns.heatmap(tidy_df.pivot_table(index='distance', columns='angle', values='value'),\n",
    "            cmap=cmap, annot=True, fmt=\".4f\", linewidths=.5)\n",
    "\n",
    "# 添加图例和标题\n",
    "plt.title('')\n",
    "plt.xlabel('Angle')\n",
    "plt.ylabel('Distance')\n",
    "\n",
    "# 显示图形\n",
    "plt.show()"
   ],
   "metadata": {
    "collapsed": false,
    "ExecuteTime": {
     "end_time": "2024-05-15T11:52:02.548841Z",
     "start_time": "2024-05-15T11:52:02.332607Z"
    }
   },
   "id": "3a6f2fa4059a3dea",
   "execution_count": 19
  },
  {
   "cell_type": "code",
   "outputs": [],
   "source": [],
   "metadata": {
    "collapsed": false
   },
   "id": "6a5ca4728b5a7d04"
  }
 ],
 "metadata": {
  "kernelspec": {
   "display_name": "Python 3",
   "language": "python",
   "name": "python3"
  },
  "language_info": {
   "codemirror_mode": {
    "name": "ipython",
    "version": 2
   },
   "file_extension": ".py",
   "mimetype": "text/x-python",
   "name": "python",
   "nbconvert_exporter": "python",
   "pygments_lexer": "ipython2",
   "version": "2.7.6"
  }
 },
 "nbformat": 4,
 "nbformat_minor": 5
}
