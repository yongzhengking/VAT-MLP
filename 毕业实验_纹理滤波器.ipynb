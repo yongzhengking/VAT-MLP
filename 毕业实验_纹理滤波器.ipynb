{
 "cells": [
  {
   "cell_type": "code",
   "execution_count": 1,
   "id": "initial_id",
   "metadata": {
    "collapsed": true,
    "ExecuteTime": {
     "end_time": "2024-05-03T12:07:20.137657Z",
     "start_time": "2024-05-03T12:07:19.359744Z"
    }
   },
   "outputs": [
    {
     "data": {
      "text/plain": "array([[ 6.78935730e+02,  6.59211084e+03,  8.86835693e+02,\n         4.21505493e+02,  4.65330200e+02, -9.31966725e-02,\n         2.61260887e+00],\n       [ 6.79013184e+02,  6.80072021e+03,  9.03494568e+02,\n         3.79014404e+02,  5.24480164e+02, -1.07457286e-01,\n         2.66041860e+00],\n       [ 6.78937500e+02,  6.59558838e+03,  9.28371765e+02,\n         3.69021118e+02,  5.59350647e+02, -1.67773850e-01,\n         2.89084259e+00],\n       [ 6.79012695e+02,  6.12064795e+03,  8.93722656e+02,\n         3.88007629e+02,  5.05715027e+02, -1.22044072e-01,\n         2.80810522e+00],\n       [ 6.78935730e+02,  6.59211084e+03,  8.86835693e+02,\n         4.21505493e+02,  4.65330200e+02, -9.31966725e-02,\n         2.61260887e+00],\n       [ 6.79013184e+02,  6.80072021e+03,  9.03494568e+02,\n         3.79014404e+02,  5.24480164e+02, -1.07457286e-01,\n         2.66041860e+00],\n       [ 6.78937500e+02,  6.59558838e+03,  9.28371765e+02,\n         3.69021118e+02,  5.59350647e+02, -1.67773850e-01,\n         2.89084259e+00],\n       [ 6.79012695e+02,  6.12064795e+03,  8.93722656e+02,\n         3.88007629e+02,  5.05715027e+02, -1.22044072e-01,\n         2.80810522e+00],\n       [ 6.78935730e+02,  6.59211084e+03,  8.86835693e+02,\n         4.21505493e+02,  4.65330200e+02, -9.31966725e-02,\n         2.61260887e+00],\n       [ 6.79013184e+02,  6.80072021e+03,  9.03494568e+02,\n         3.79014404e+02,  5.24480164e+02, -1.07457286e-01,\n         2.66041860e+00],\n       [ 6.78937500e+02,  6.59558838e+03,  9.28371765e+02,\n         3.69021118e+02,  5.59350647e+02, -1.67773850e-01,\n         2.89084259e+00],\n       [ 6.79012695e+02,  6.12064795e+03,  8.93722656e+02,\n         3.88007629e+02,  5.05715027e+02, -1.22044072e-01,\n         2.80810522e+00],\n       [ 1.12919255e-02,  2.79097565e+03,  4.56000000e+02,\n        -3.70000000e+02,  8.26000000e+02,  1.67151838e-01,\n         4.97011785e+00],\n       [ 1.16897922e+02,  1.51904008e+04,  2.55000000e+02,\n         0.00000000e+00,  2.55000000e+02,  1.73688778e-01,\n         1.03341327e+00]])"
     },
     "execution_count": 1,
     "metadata": {},
     "output_type": "execute_result"
    }
   ],
   "source": [
    "import scipy\n",
    "# 多种纹理过滤器，并从各自响应中提取统计特征，最后将这些特征组合成最终的特征向量\n",
    "import cv2\n",
    "import numpy as np\n",
    "def extract_stats(image: np.ndarray) -> list:\n",
    "\n",
    "    stats = []\n",
    "    # 计算平均值\n",
    "    mean = np.mean(image)\n",
    "    stats.append(mean)\n",
    "    # 计算方差\n",
    "    variance = np.var(image)\n",
    "    stats.append(variance)\n",
    "    # 计算最大最小值\n",
    "    max_value = np.max(image)\n",
    "    min_value = np.min(image)\n",
    "    stats.extend([max_value, min_value])\n",
    "    # 计算峰峰值\n",
    "    peak_to_peak = max_value - min_value\n",
    "    stats.append(peak_to_peak)\n",
    "    # 计算偏斜度和峰度\n",
    "    skewness1 = skew(image.ravel())\n",
    "    kurtosis1 = kurtosis(image.ravel(), fisher=False)\n",
    "    stats.extend([skewness1, kurtosis1])\n",
    "    return stats\n",
    "\n",
    "# 加载图像并转为灰度\n",
    "biopsy_image = cv2.imread(\"C:\\\\Users\\\\MYZ\\\\PycharmProjects\\\\VIT_Pytorch\\\\BreaKHis_Datasets\\\\Original\\\\Benign_Sample\\\\Benign_Sample (2).png\", cv2.IMREAD_GRAYSCALE)\n",
    "# Gabor 滤波器参数及应用\n",
    "scales = [1, 2, 4]  # 可调整的尺度列表\n",
    "orientations = [0, np.pi/4, np.pi/2, 3*np.pi/4]  # 四个典型方向\n",
    "ksize = 15  # Gabor 滤波器核大小，一般取奇数，如 15！！\n",
    "sigma = 1.0  # 核的标准偏差，与尺度有关，可以设置为尺度的函数\n",
    "lambda_ = 4.0  # 波长，与尺度有关，可以设置为尺度的函数\n",
    "gamma = 0.5  # 控制椭圆的扁平程度\n",
    "psi = 0.0  # 相位偏移，一般设为 0\n",
    "# 3. 应用 Gabor 滤波器并提取特征\n",
    "gabor_responses = []\n",
    "for scale in scales:\n",
    "    for orientation in orientations:\n",
    "        gabor_kernel = cv2.getGaborKernel((ksize, ksize), sigma, orientation, lambda_, gamma, psi, ktype=cv2.CV_32F)\n",
    "        filtered_image = cv2.filter2D(biopsy_image, cv2.CV_32F, gabor_kernel)\n",
    "        gabor_responses.append(filtered_image)\n",
    "\n",
    "# 拉普拉斯算子应用\n",
    "laplacian = cv2.Laplacian(biopsy_image, cv2.CV_64F, ksize=3)\n",
    "\n",
    "# 高斯差分滤波器参数及应用\n",
    "# 定义两个不同的高斯核标准差\n",
    "sigma_small = 1.0\n",
    "sigma_large = 2.0\n",
    "# 计算高斯模糊图像\n",
    "blurred_small = cv2.GaussianBlur(biopsy_image, (0, 0), sigma_small)\n",
    "blurred_large = cv2.GaussianBlur(biopsy_image, (0, 0), sigma_large)\n",
    "# 计算 DoG 响应\n",
    "dog_response = blurred_large - blurred_small\n",
    "\n",
    "# Gabor 响应统计特征提取\n",
    "gabor_stats = []\n",
    "from scipy.stats import skew, kurtosis\n",
    "   \n",
    "for response in gabor_responses:\n",
    "    mean = np.mean(response)\n",
    "    variance = np.var(response)\n",
    "    max_value = np.max(response)\n",
    "    min_value = np.min(response)\n",
    "    peak_to_peak = max_value - min_value\n",
    "    # 计算偏斜度和峰度\n",
    "    skewness1 = skew(response.ravel())  # 使用 ravel() 将图像展平为一维数组\n",
    "    kurtosis1 = kurtosis(response.ravel(), fisher=False)  # 使用 fisher=False 获取 excess kurtosis（超额峰度）\n",
    "    # 将偏斜度和峰度添加到当前响应的统计特征列表中\n",
    "    current_stats = [mean, variance, max_value, min_value, peak_to_peak, skewness1, kurtosis1]\n",
    "    gabor_stats.append(current_stats)\n",
    "\n",
    "# 类似地，提取拉普拉斯算子和高斯差分滤波器的统计特征\n",
    "laplacian_stats = extract_stats(laplacian)\n",
    "dog_stats = extract_stats(dog_response)\n",
    "\n",
    "# 组合特征向量\n",
    "# 假设每个过滤器的统计特征数量为 n_stats\n",
    "n_stats = len(gabor_stats[0])\n",
    "\n",
    "# 初始化特征向量\n",
    "combined_features = np.zeros((len(gabor_stats) + 2, n_stats))\n",
    "\n",
    "# 将 Gabor、拉普拉斯算子和高斯差分滤波器的统计特征依次添加到特征向量\n",
    "combined_features[:len(gabor_stats)] = np.array(gabor_stats)\n",
    "combined_features[len(gabor_stats):len(gabor_stats) + 1] = laplacian_stats\n",
    "combined_features[len(gabor_stats) + 1:] = dog_stats\n",
    "# combined_features 现在包含了所有过滤器的统计特征，每一列代表一个统计指标，每一行代表一个过滤器的响应\n",
    "combined_features"
   ]
  },
  {
   "cell_type": "code",
   "outputs": [
    {
     "data": {
      "text/plain": "          Mean      Variance         Max         Min  Peak-to-Peak  Skewness  \\\n0   678.935730   6592.110840  886.835693  421.505493    465.330200 -0.093197   \n1   679.013184   6800.720215  903.494568  379.014404    524.480164 -0.107457   \n2   678.937500   6595.588379  928.371765  369.021118    559.350647 -0.167774   \n3   679.012695   6120.647949  893.722656  388.007629    505.715027 -0.122044   \n4   678.935730   6592.110840  886.835693  421.505493    465.330200 -0.093197   \n5   679.013184   6800.720215  903.494568  379.014404    524.480164 -0.107457   \n6   678.937500   6595.588379  928.371765  369.021118    559.350647 -0.167774   \n7   679.012695   6120.647949  893.722656  388.007629    505.715027 -0.122044   \n8   678.935730   6592.110840  886.835693  421.505493    465.330200 -0.093197   \n9   679.013184   6800.720215  903.494568  379.014404    524.480164 -0.107457   \n10  678.937500   6595.588379  928.371765  369.021118    559.350647 -0.167774   \n11  679.012695   6120.647949  893.722656  388.007629    505.715027 -0.122044   \n12    0.011292   2790.975649  456.000000 -370.000000    826.000000  0.167152   \n13  116.897922  15190.400776  255.000000    0.000000    255.000000  0.173689   \n\n    Kurtosis  \n0   2.612609  \n1   2.660419  \n2   2.890843  \n3   2.808105  \n4   2.612609  \n5   2.660419  \n6   2.890843  \n7   2.808105  \n8   2.612609  \n9   2.660419  \n10  2.890843  \n11  2.808105  \n12  4.970118  \n13  1.033413  ",
      "text/html": "<div>\n<style scoped>\n    .dataframe tbody tr th:only-of-type {\n        vertical-align: middle;\n    }\n\n    .dataframe tbody tr th {\n        vertical-align: top;\n    }\n\n    .dataframe thead th {\n        text-align: right;\n    }\n</style>\n<table border=\"1\" class=\"dataframe\">\n  <thead>\n    <tr style=\"text-align: right;\">\n      <th></th>\n      <th>Mean</th>\n      <th>Variance</th>\n      <th>Max</th>\n      <th>Min</th>\n      <th>Peak-to-Peak</th>\n      <th>Skewness</th>\n      <th>Kurtosis</th>\n    </tr>\n  </thead>\n  <tbody>\n    <tr>\n      <th>0</th>\n      <td>678.935730</td>\n      <td>6592.110840</td>\n      <td>886.835693</td>\n      <td>421.505493</td>\n      <td>465.330200</td>\n      <td>-0.093197</td>\n      <td>2.612609</td>\n    </tr>\n    <tr>\n      <th>1</th>\n      <td>679.013184</td>\n      <td>6800.720215</td>\n      <td>903.494568</td>\n      <td>379.014404</td>\n      <td>524.480164</td>\n      <td>-0.107457</td>\n      <td>2.660419</td>\n    </tr>\n    <tr>\n      <th>2</th>\n      <td>678.937500</td>\n      <td>6595.588379</td>\n      <td>928.371765</td>\n      <td>369.021118</td>\n      <td>559.350647</td>\n      <td>-0.167774</td>\n      <td>2.890843</td>\n    </tr>\n    <tr>\n      <th>3</th>\n      <td>679.012695</td>\n      <td>6120.647949</td>\n      <td>893.722656</td>\n      <td>388.007629</td>\n      <td>505.715027</td>\n      <td>-0.122044</td>\n      <td>2.808105</td>\n    </tr>\n    <tr>\n      <th>4</th>\n      <td>678.935730</td>\n      <td>6592.110840</td>\n      <td>886.835693</td>\n      <td>421.505493</td>\n      <td>465.330200</td>\n      <td>-0.093197</td>\n      <td>2.612609</td>\n    </tr>\n    <tr>\n      <th>5</th>\n      <td>679.013184</td>\n      <td>6800.720215</td>\n      <td>903.494568</td>\n      <td>379.014404</td>\n      <td>524.480164</td>\n      <td>-0.107457</td>\n      <td>2.660419</td>\n    </tr>\n    <tr>\n      <th>6</th>\n      <td>678.937500</td>\n      <td>6595.588379</td>\n      <td>928.371765</td>\n      <td>369.021118</td>\n      <td>559.350647</td>\n      <td>-0.167774</td>\n      <td>2.890843</td>\n    </tr>\n    <tr>\n      <th>7</th>\n      <td>679.012695</td>\n      <td>6120.647949</td>\n      <td>893.722656</td>\n      <td>388.007629</td>\n      <td>505.715027</td>\n      <td>-0.122044</td>\n      <td>2.808105</td>\n    </tr>\n    <tr>\n      <th>8</th>\n      <td>678.935730</td>\n      <td>6592.110840</td>\n      <td>886.835693</td>\n      <td>421.505493</td>\n      <td>465.330200</td>\n      <td>-0.093197</td>\n      <td>2.612609</td>\n    </tr>\n    <tr>\n      <th>9</th>\n      <td>679.013184</td>\n      <td>6800.720215</td>\n      <td>903.494568</td>\n      <td>379.014404</td>\n      <td>524.480164</td>\n      <td>-0.107457</td>\n      <td>2.660419</td>\n    </tr>\n    <tr>\n      <th>10</th>\n      <td>678.937500</td>\n      <td>6595.588379</td>\n      <td>928.371765</td>\n      <td>369.021118</td>\n      <td>559.350647</td>\n      <td>-0.167774</td>\n      <td>2.890843</td>\n    </tr>\n    <tr>\n      <th>11</th>\n      <td>679.012695</td>\n      <td>6120.647949</td>\n      <td>893.722656</td>\n      <td>388.007629</td>\n      <td>505.715027</td>\n      <td>-0.122044</td>\n      <td>2.808105</td>\n    </tr>\n    <tr>\n      <th>12</th>\n      <td>0.011292</td>\n      <td>2790.975649</td>\n      <td>456.000000</td>\n      <td>-370.000000</td>\n      <td>826.000000</td>\n      <td>0.167152</td>\n      <td>4.970118</td>\n    </tr>\n    <tr>\n      <th>13</th>\n      <td>116.897922</td>\n      <td>15190.400776</td>\n      <td>255.000000</td>\n      <td>0.000000</td>\n      <td>255.000000</td>\n      <td>0.173689</td>\n      <td>1.033413</td>\n    </tr>\n  </tbody>\n</table>\n</div>"
     },
     "execution_count": 2,
     "metadata": {},
     "output_type": "execute_result"
    }
   ],
   "source": [
    "import pandas as pd\n",
    "\n",
    "column_names = [\"Mean\", \"Variance\", \"Max\", \"Min\", \"Peak-to-Peak\", \"Skewness\", \"Kurtosis\"]\n",
    "df_combined_features = pd.DataFrame(combined_features, columns=column_names)\n",
    "df_combined_features"
   ],
   "metadata": {
    "collapsed": false,
    "ExecuteTime": {
     "end_time": "2024-05-03T12:08:48.442805Z",
     "start_time": "2024-05-03T12:08:48.420268Z"
    }
   },
   "id": "b02c02d5b9cec52f",
   "execution_count": 2
  }
 ],
 "metadata": {
  "kernelspec": {
   "display_name": "Python 3",
   "language": "python",
   "name": "python3"
  },
  "language_info": {
   "codemirror_mode": {
    "name": "ipython",
    "version": 2
   },
   "file_extension": ".py",
   "mimetype": "text/x-python",
   "name": "python",
   "nbconvert_exporter": "python",
   "pygments_lexer": "ipython2",
   "version": "2.7.6"
  }
 },
 "nbformat": 4,
 "nbformat_minor": 5
}
